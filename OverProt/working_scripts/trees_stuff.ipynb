{
 "metadata": {
  "language_info": {
   "codemirror_mode": {
    "name": "ipython",
    "version": 3
   },
   "file_extension": ".py",
   "mimetype": "text/x-python",
   "name": "python",
   "nbconvert_exporter": "python",
   "pygments_lexer": "ipython3",
   "version": "3.8.5-final"
  },
  "orig_nbformat": 2,
  "kernelspec": {
   "name": "python3",
   "display_name": "Python 3",
   "language": "python"
  }
 },
 "nbformat": 4,
 "nbformat_minor": 2,
 "cells": [
  {
   "cell_type": "code",
   "execution_count": 48,
   "metadata": {},
   "outputs": [],
   "source": [
    "import json\n",
    "import numpy as np\n",
    "from pathlib import Path\n",
    "from numba import jit\n",
    "from datetime import datetime, timedelta\n",
    "from collections import Counter\n",
    "from typing import Union\n",
    "\n",
    "from overprot.libs import lib_alignment\n",
    "from overprot.libs import lib_pymol\n",
    "from overprot.libs.lib_structure import Structure\n",
    "from overprot.libs.lib import Timing"
   ]
  },
  {
   "cell_type": "code",
   "execution_count": 3,
   "metadata": {},
   "outputs": [],
   "source": [
    "import tree_stuff as ts\n",
    "n = 885\n",
    "domains = np.array(ts.get_domains(n))\n",
    "families = np.array([famdom.split('/')[1] for famdom in (ts.DATA / f'choice_{n}.txt').read_text().split()])\n",
    "fam_counts = Counter(families)"
   ]
  },
  {
   "cell_type": "code",
   "execution_count": 108,
   "metadata": {
    "tags": []
   },
   "outputs": [
    {
     "output_type": "stream",
     "name": "stdout",
     "text": [
      "lengthmax           \t0.9955\t0.9955\t0.9955\t0.7525\n",
      "lengthmin           \t0.8531\t0.8045\t0.7311\t0.6000\n",
      "maxrmsd3            \t0.3322\t0.3254\t0.3153\t0.2565\n",
      "maxrmsd5            \t0.1898\t0.1785\t0.1503\t0.1096\n",
      "maxrmsd7            \t0.1672\t0.1401\t0.1119\t0.0531\n",
      "maxrmsd8            \t0.1661\t0.1379\t0.1073\t0.0452\n",
      "maxrmsd10           \t0.1718\t0.1345\t0.1073\t0.0395\n",
      "maxrmsd12           \t0.1864\t0.1492\t0.1164\t0.0362\n",
      "maxrmsd15           \t0.2215\t0.1774\t0.1367\t0.0463\n",
      "maxrmsd20           \t0.2565\t0.2113\t0.1582\t0.0554\n",
      "op-exp5             \t0.1164\t0.0904\t0.0757\t0.0644\n",
      "op-exp7             \t0.0927\t0.0644\t0.0486\t0.0373\n",
      "op-exp10            \t0.0712\t0.0452\t0.0294\t0.0192\n",
      "op-exp15            \t0.0667\t0.0395\t0.0249\t0.0147\n",
      "op-exp18            \t0.0644\t0.0384\t0.0249\t0.0124\n",
      "op-exp20            \t0.0633\t0.0362\t0.0226\t0.0113\n",
      "op-exp22            \t0.0633\t0.0362\t0.0226\t0.0090\n",
      "op-exp25            \t0.0667\t0.0384\t0.0282\t0.0124\n",
      "op-exp30            \t0.0723\t0.0384\t0.0316\t0.0147\n",
      "op-lin5             \t0.1729\t0.1571\t0.1469\t0.1232\n",
      "op-lin7             \t0.1085\t0.0825\t0.0689\t0.0633\n",
      "op-lin10            \t0.0791\t0.0576\t0.0441\t0.0362\n",
      "op-lin12            \t0.0667\t0.0441\t0.0305\t0.0260\n",
      "op-lin15            \t0.0610\t0.0362\t0.0237\t0.0158\n",
      "op-lin17            \t0.0633\t0.0373\t0.0237\t0.0147\n",
      "op-lin20            \t0.0655\t0.0395\t0.0249\t0.0147\n",
      "sop-maxrmsd7-lin15  \t0.0757\t0.0463\t0.0328\t0.0181\n",
      "sop-maxrmsd7-exp20  \t0.0746\t0.0441\t0.0271\t0.0102\n",
      "sop-maxrmsd7*lin15  \t0.0757\t0.0463\t0.0328\t0.0181\n",
      "sop-maxrmsd7*exp20  \t0.0746\t0.0441\t0.0271\t0.0102\n"
     ]
    },
    {
     "output_type": "execute_result",
     "data": {
      "text/plain": [
       "(3, 0.003389830508474576)"
      ]
     },
     "metadata": {},
     "execution_count": 108
    }
   ],
   "source": [
    "def distance_badness(distance_matrix: Union[np.ndarray, Path], domains, families, verbose=False):\n",
    "    n = len(domains)\n",
    "    if isinstance(distance_matrix, np.ndarray):\n",
    "        distances = distance_matrix\n",
    "    else:\n",
    "        distances = np.loadtxt(distance_matrix)\n",
    "    distances_wo_self = distances.copy()\n",
    "    distances_wo_self[range(n), range(n)] = np.inf\n",
    "    # distances_wo_self[:5,:5]\n",
    "    nns = [np.argmin(distances_wo_self[i]) for i in range(n)]\n",
    "    good = []\n",
    "    bad = []\n",
    "    bad_T = []  # subset of bad, put in wrong Topology\n",
    "    bad_A = []  # subset of bad_T, put in wrong Architecture\n",
    "    bad_C = []  # subset of bad_A, put in wrong Class\n",
    "    for i, nn in enumerate(nns):\n",
    "        # print(domains[i], families[i], domains[nn], families[nn])\n",
    "        if families[i] == families[nn]:\n",
    "            good.append(i)\n",
    "        else:\n",
    "            bad.append(i)\n",
    "            if families[i].split('.')[:3] != families[nn].split('.')[:3]:\n",
    "                bad_T.append(i)\n",
    "            if families[i].split('.')[:2] != families[nn].split('.')[:2]:\n",
    "                bad_A.append(i)\n",
    "            if families[i].split('.')[:1] != families[nn].split('.')[:1]:\n",
    "                bad_C.append(i)\n",
    "    if verbose:\n",
    "        for i in bad:\n",
    "            nn = nns[i]\n",
    "            print(domains[i], domains[nn], f'{families[i]}   ({fam_counts[families[i]]})', f'{families[nn]}   ({fam_counts[families[nn]]})', sep='\\t')\n",
    "    return len(bad)/n, len(bad_T)/n, len(bad_A)/n, len(bad_C)/n, good, bad\n",
    "\n",
    "versions = 'lengthmax lengthmin maxrmsd3 maxrmsd5 maxrmsd7 maxrmsd8 maxrmsd10 maxrmsd12 maxrmsd15 maxrmsd20 op-exp5 op-exp7 op-exp10 op-exp15 op-exp18 op-exp20 op-exp22 op-exp25 op-exp30 op-lin5 op-lin7 op-lin10 op-lin12 op-lin15 op-lin17 op-lin20 sop-maxrmsd7-lin15 sop-maxrmsd7-exp20 sop-maxrmsd7*lin15 sop-maxrmsd7*exp20'.split()\n",
    "for version in versions:\n",
    "    bH, bT, bA, bC, *_ = distance_badness(ts.DATA / f'distance_{n}x{n}-{version}.csv', domains, families)\n",
    "    print(f'{version:20}', *('{:.4f}'.format(b) for b in (bH, bT, bA, bC)), sep='\\t')\n",
    "sum([count for fam, count in fam_counts.items() if count==1]), 3/885"
   ]
  },
  {
   "cell_type": "code",
   "execution_count": 102,
   "metadata": {},
   "outputs": [
    {
     "output_type": "stream",
     "name": "stdout",
     "text": [
      "0.0723\t0.0475\t0.0350\t0.0181\n",
      "0.0701\t0.0395\t0.0271\t0.0147\n",
      "0.0746\t0.0463\t0.0282\t0.0068\n",
      "0.0780\t0.0486\t0.0294\t0.0068\n"
     ]
    }
   ],
   "source": [
    "sw = 0.5\n",
    "mixed_distance = (sw * np.loadtxt(ts.DATA / f'distance_{n}x{n}-maxrmsd7.csv') + (1-sw) * np.loadtxt(ts.DATA / f'distance_{n}x{n}-op-lin10.csv'))\n",
    "bH, bT, bA, bC, *_ = distance_badness(mixed_distance, domains, families)\n",
    "print(*('{:.4f}'.format(b) for b in (bH, bT, bA, bC)), sep='\\t')\n",
    "\n",
    "mixed_distance = (sw * np.loadtxt(ts.DATA / f'distance_{n}x{n}-maxrmsd7.csv') + (1-sw) * np.loadtxt(ts.DATA / f'distance_{n}x{n}-op-lin15.csv'))\n",
    "bH, bT, bA, bC, *_ = distance_badness(mixed_distance, domains, families)\n",
    "print(*('{:.4f}'.format(b) for b in (bH, bT, bA, bC)), sep='\\t')\n",
    "\n",
    "mixed_distance = (sw * np.loadtxt(ts.DATA / f'distance_{n}x{n}-maxrmsd7.csv') + (1-sw) * np.loadtxt(ts.DATA / f'distance_{n}x{n}-op-exp20.csv'))\n",
    "bH, bT, bA, bC, *_ = distance_badness(mixed_distance, domains, families)\n",
    "print(*('{:.4f}'.format(b) for b in (bH, bT, bA, bC)), sep='\\t')\n",
    "\n",
    "mixed_distance = (sw * np.loadtxt(ts.DATA / f'distance_{n}x{n}-maxrmsd7.csv') + (1-sw) * np.loadtxt(ts.DATA / f'distance_{n}x{n}-op-exp22.csv'))\n",
    "bH, bT, bA, bC, *_ = distance_badness(mixed_distance, domains, families)\n",
    "print(*('{:.4f}'.format(b) for b in (bH, bT, bA, bC)), sep='\\t')"
   ]
  },
  {
   "cell_type": "code",
   "execution_count": 62,
   "metadata": {},
   "outputs": [
    {
     "output_type": "stream",
     "name": "stdout",
     "text": [
      "2m8eA00\t2r0qC02\t1.10.10.10   (15)\t1.10.10.60   (7)\n2o3fA00\t1jtxA01\t1.10.10.10   (15)\t1.10.10.60   (7)\n4q5sF02\t1jtxA01\t1.10.10.10   (15)\t1.10.10.60   (7)\n1d0kA02\t1xydA00\t1.10.530.10   (11)\t1.10.238.10   (8)\n3qjkA00\t4q5sF02\t1.10.238.10   (8)\t1.10.10.10   (15)\n1jtxA01\t4q5sF02\t1.10.10.60   (7)\t1.10.10.10   (15)\n1tf0A01\t1zqzA01\t1.10.246.10   (1)\t1.10.150.20   (12)\n3proA01\t1bibA03\t2.40.10.10   (26)\t2.30.30.100   (2)\n5t6fA01\t3uytA01\t2.40.10.10   (26)\t3.30.200.20   (49)\n1pfsA00\t1cskA00\t2.40.50.140   (10)\t2.30.30.40   (5)\n1vciA03\t1ckaA00\t2.40.50.140   (10)\t2.30.30.40   (5)\n5ffhA00\t5gioE01\t2.40.128.20   (7)\t3.30.200.20   (49)\n1q43A02\t1jtxA01\t2.60.120.10   (7)\t1.10.10.60   (7)\n1bhgA01\t3zoaA03\t2.60.120.260   (6)\t2.60.40.1180   (8)\n6aj0B00\t2opkA01\t2.60.120.20   (3)\t2.60.120.10   (7)\n1bibA03\t2j6oA00\t2.30.30.100   (2)\t2.30.30.40   (5)\n5gioE01\t1nziA02\t3.30.200.20   (49)\t2.10.25.10   (5)\n3iimA00\t1ffsA00\t3.40.50.300   (38)\t3.40.50.2300   (9)\n3o8cA03\t4hktA01\t3.40.50.300   (38)\t3.40.50.720   (36)\n5j40A03\t3f8mA01\t3.40.50.300   (38)\t1.10.10.10   (15)\n1isfA02\t4q5sF02\t3.40.50.720   (36)\t1.10.10.10   (15)\n6abjA01\t1fspA00\t3.40.50.720   (36)\t3.40.50.2300   (9)\n5nxbA02\t3oa2A01\t3.20.20.70   (23)\t3.40.50.720   (36)\n1v6uA02\t3ajxA00\t3.20.20.80   (21)\t3.20.20.70   (23)\n2nw0A00\t1fspA00\t3.20.20.80   (21)\t3.40.50.2300   (9)\n2x0yA02\t3lhyA00\t3.20.20.80   (21)\t3.20.20.70   (23)\n5nn8A03\t3ajxA00\t3.20.20.80   (21)\t3.20.20.70   (23)\n5zcrA01\t3ovrA00\t3.20.20.80   (21)\t3.20.20.70   (23)\n3qzuA00\t6abjA01\t3.40.50.1820   (18)\t3.40.50.720   (36)\n2igiA00\t4isgA02\t3.30.420.10   (12)\t3.30.420.40   (7)\n2zd1A05\t3f8mA01\t3.30.420.10   (12)\t1.10.10.10   (15)\n1fjxA02\t3oa2A01\t3.40.50.150   (12)\t3.40.50.720   (36)\n2c7gA02\t3oa2A01\t3.50.50.60   (10)\t3.40.50.720   (36)\n2l18A00\t3d4tA00\t3.40.50.2300   (9)\t3.40.30.10   (16)\n2ay3A01\t1zqjA02\t3.90.1150.10   (9)\t1.10.150.20   (12)\n3cc2S00\t1s1qB00\t3.30.70.330   (7)\t3.10.20.90   (9)\n5mkoA00\t4hktA01\t3.40.50.620   (7)\t3.40.50.720   (36)\n6b1zA01\t4hktA01\t3.40.50.620   (7)\t3.40.50.720   (36)\n3gg7A00\t2yw3A00\t3.20.20.140   (6)\t3.20.20.70   (23)\n3o0fA01\t1fspA00\t3.20.20.140   (6)\t3.40.50.2300   (9)\n2o5aA01\t1jtxA01\t3.30.460.10   (6)\t1.10.10.60   (7)\n3lw6A00\t4rxuA01\t3.90.550.10   (6)\t3.40.50.2300   (9)\n1dihA02\t3f8mA01\t3.30.360.10   (4)\t1.10.10.10   (15)\n4r5mA02\t2o5aA01\t3.30.360.10   (4)\t3.30.460.10   (6)\n6aaoA02\t1jowB01\t3.30.930.10   (4)\t3.30.200.20   (49)\n6apwA02\t1rt6A02\t3.30.930.10   (4)\t3.30.70.270   (9)\n1nl7A01\t1s1qB00\t3.40.47.10   (4)\t3.10.20.90   (9)\n6dx7A01\t4hktA01\t3.40.47.10   (4)\t3.40.50.720   (36)\n4caxA01\t2krnA00\t3.40.630.30   (4)\t2.30.30.40   (5)\n3l94B01\t1rt6A02\t3.60.20.10   (4)\t3.30.70.270   (9)\n1nhhA02\t4q5sF02\t3.30.230.10   (3)\t1.10.10.10   (15)\n6q8zA01\t4yiiA00\t3.30.230.10   (3)\t1.10.10.10   (15)\n2opjA01\t1bibA03\t3.30.390.10   (3)\t2.30.30.100   (2)\n4ucfA02\t1ffsA00\t3.40.50.880   (3)\t3.40.50.2300   (9)\n4b7cA01\t2m8eA00\t3.90.180.10   (3)\t1.10.10.10   (15)\n1tg6A00\t4hktA01\t3.90.226.10   (3)\t3.40.50.720   (36)\n3mfmA01\t3o1hB01\t3.90.226.10   (3)\t3.40.50.2300   (9)\n3bzaA01\t3cc2S00\t3.10.180.10   (2)\t3.30.70.330   (7)\n3ey7A01\t1wi8A01\t3.10.180.10   (2)\t3.30.70.330   (7)\n2a3nA01\t1fspA00\t3.40.50.10490   (2)\t3.40.50.2300   (9)\n5ixjA01\t4q5sF02\t3.40.50.1100   (2)\t1.10.10.10   (15)\n5mmsA01\t1fspA00\t3.40.50.1100   (2)\t3.40.50.2300   (9)\n6c5fA00\t6bk8r00\t3.30.429.10   (1)\t3.30.70.330   (7)\n3n57A01\t1vruA02\t3.30.830.10   (1)\t3.30.70.270   (9)\n"
     ]
    }
   ],
   "source": [
    "# distance_badness(ts.DATA / f'distance_{n}x{n}-maxrmsd7.csv', domains, families, verbose=True)\n",
    "# print('-'*50)\n",
    "distance_badness(mixed_distance, domains, families, verbose=True)\n",
    "None"
   ]
  },
  {
   "cell_type": "code",
   "execution_count": 64,
   "metadata": {
    "tags": []
   },
   "outputs": [
    {
     "output_type": "stream",
     "name": "stdout",
     "text": [
      "424\n0.000\t5gioE01\t3.30.200.20\n22.064\t1nziA02\t2.10.25.10\n24.788\t2j6oA00\t2.30.30.40\n25.092\t1ckaA00\t2.30.30.40\n25.325\t1cskA00\t2.30.30.40\n26.092\t1iqgL00\t2.10.25.10\n26.290\t1bibA03\t2.30.30.100\n26.527\t2phbB00\t2.10.25.10\n26.659\t2r3gA01\t3.30.200.20\n26.828\t2bq6A00\t2.10.25.10\n26.984\t2krnA00\t2.30.30.40\n27.135\t4q5eA01\t3.30.200.20\n27.431\t5y20A00\t3.30.40.10\n27.944\t4fktA01\t3.30.200.20\n28.287\t3uytA01\t3.30.200.20\n29.193\t1y8yA01\t3.30.200.20\n29.243\t5hgiA01\t3.30.200.20\n29.391\t1vciA03\t2.40.50.140\n29.562\t6hm6A01\t3.30.200.20\n29.632\t2evaA01\t3.30.200.20\n"
     ]
    },
    {
     "output_type": "execute_result",
     "data": {
      "text/plain": [
       "((array([], dtype=int64),), array([], dtype='<U7'), array([], dtype='<U13'))"
      ]
     },
     "metadata": {},
     "execution_count": 64
    }
   ],
   "source": [
    "distance = mixed_distance\n",
    "i_5gio = np.where(domains=='5gioE01')[0][0]\n",
    "print(i_5gio)\n",
    "hits = [f'{d:.3f}\\t{dom}\\t{fam}' for d, dom, fam in sorted(zip(distance[i_5gio], domains, families))]\n",
    "print(*hits[:20], sep='\\n')\n",
    "np.argmin(distance[i_5gio])\n",
    "# np.min(distance[0])\n",
    "nans = np.where(np.isnan(distance[0]))\n",
    "nans, domains[nans], families[nans]"
   ]
  },
  {
   "cell_type": "code",
   "execution_count": 67,
   "metadata": {},
   "outputs": [
    {
     "output_type": "execute_result",
     "data": {
      "text/plain": [
       "((20, 20, 3, 3),\n",
       " (20, 20, 1, 3),\n",
       " 1.0000000000000004,\n",
       " -0.9999609197964008,\n",
       " 21.194041055790912,\n",
       " -23.839824719511864)"
      ]
     },
     "metadata": {},
     "execution_count": 67
    }
   ],
   "source": [
    "rotations = np.load(ts.DATA / 'rotations_20x20-op-lin10.npy')\n",
    "translations = np.load(ts.DATA / 'translations_20x20-op-lin10.npy')\n",
    "rotations.shape, translations.shape, rotations.max(), rotations.min(), translations.max(), translations.min()"
   ]
  },
  {
   "cell_type": "code",
   "execution_count": 14,
   "metadata": {},
   "outputs": [],
   "source": [
    "def seconds(s): return timedelta(seconds=s)"
   ]
  },
  {
   "cell_type": "code",
   "execution_count": 18,
   "metadata": {},
   "outputs": [
    {
     "output_type": "stream",
     "name": "stdout",
     "text": [
      "7:28:57.015625\n4:20:45.018675\n"
     ]
    }
   ],
   "source": [
    "print(seconds(25) / 200**2 * 6565**2)\n",
    "print(seconds(363) / 1000**2 * 6565**2)"
   ]
  },
  {
   "cell_type": "code",
   "execution_count": 59,
   "metadata": {},
   "outputs": [
    {
     "output_type": "stream",
     "name": "stdout",
     "text": [
      "0:32:38.062500\n11:00:08.187775\n"
     ]
    }
   ],
   "source": [
    "print(seconds(25) /100**2 *885**2)\n",
    "1378/7280*100, 3170/7280*100\n",
    "885-388\n",
    "print(timedelta(minutes=12) /885**2 *6565**2)\n",
    "# distance matrix 200x200 (shapedist-maxrmsd7): 51 s\n",
    "# distance matrix 200x200 (shapedist-maxrmsd7): 47 s (precomputed shapes)\n",
    "# distance matrix 200x200 (shapedist-maxrmsd7): 42 s (precomputed shapes, omitting center point of the shape)\n",
    "# distance matrix 200x200 (op-r10): 12:25\n",
    "# distance matrix 885x885 (op-r10): 2:56:00"
   ]
  },
  {
   "cell_type": "code",
   "execution_count": 84,
   "metadata": {},
   "outputs": [
    {
     "output_type": "stream",
     "name": "stdout",
     "text": [
      "shapedist 0:00:12.053340\nopdist 0:02:56.828275\n"
     ]
    }
   ],
   "source": [
    "nd = 885\n",
    "n_calc = n * (n+1) // 2\n",
    "print('shapedist', timedelta(minutes=12) / n_calc *6565)\n",
    "print('opdist', timedelta(hours=2, minutes=56) / n_calc *6565)"
   ]
  },
  {
   "cell_type": "code",
   "execution_count": 28,
   "metadata": {},
   "outputs": [
    {
     "output_type": "stream",
     "name": "stdout",
     "text": [
      "[  0   1   2   3   4 100   6   7   8   9]\n[[  0   1   2   3   4 100   6   7   8   9]]\n"
     ]
    }
   ],
   "source": [
    "op-exp20  \t0.0633\t0.0362\t0.0226\t0.0113\n",
    "op-exp22  \t0.0633\t0.0362\t0.0226\t0.0090\n",
    "op-lin15  \t0.0610\t0.0362\t0.0237\t0.0158\n",
    "op-lin17  \t0.0633\t0.0373\t0.0237\t0.0147"
   ]
  }
 ]
}