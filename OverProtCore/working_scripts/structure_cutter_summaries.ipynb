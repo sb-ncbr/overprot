{
 "cells": [
  {
   "cell_type": "code",
   "execution_count": 5,
   "metadata": {},
   "outputs": [],
   "source": [
    "import json\n",
    "from pathlib import Path\n",
    "from collections import Counter, defaultdict\n",
    "\n",
    "input_dir = Path('/home/adam/Workspace/Python/OverProt/data/StructureCutter-whole_pdb/residue_summaries')\n",
    "f_compound_counter = Path('/home/adam/Workspace/Python/OverProt/data/StructureCutter-whole_pdb/compound_counter.json')\n",
    "f_compound_index = Path('/home/adam/Workspace/Python/OverProt/data/StructureCutter-whole_pdb/compound_index.json')"
   ]
  },
  {
   "cell_type": "code",
   "execution_count": 6,
   "metadata": {},
   "outputs": [
    {
     "name": "stdout",
     "output_type": "stream",
     "text": [
      "2665 190632\n"
     ]
    }
   ],
   "source": [
    "compound_counter = Counter()\n",
    "compound_index = defaultdict(Counter)\n",
    "\n",
    "for subdir in input_dir.iterdir():\n",
    "    for file in subdir.iterdir():\n",
    "        pdb = file.stem\n",
    "        with open(file) as r:\n",
    "            js = json.load(r)\n",
    "        for chain in js.values():\n",
    "            if chain['residues'] is not None:\n",
    "                for residue in chain['residues']:\n",
    "                    comp = residue['comp']\n",
    "                    compound_counter[comp] += 1\n",
    "                    compound_index[pdb][comp] += 1\n",
    "print(len(compound_counter), len(compound_index))\n",
    "with open(f_compound_counter, 'w') as w:\n",
    "    json.dump(compound_counter, w)\n",
    "with open(f_compound_index, 'w') as w:\n",
    "    json.dump(compound_index, w)\n"
   ]
  },
  {
   "cell_type": "code",
   "execution_count": 23,
   "metadata": {},
   "outputs": [
    {
     "data": {
      "text/plain": [
       "272"
      ]
     },
     "execution_count": 23,
     "metadata": {},
     "output_type": "execute_result"
    }
   ],
   "source": [
    "compound_counter['DU']"
   ]
  },
  {
   "cell_type": "code",
   "execution_count": 18,
   "metadata": {},
   "outputs": [
    {
     "name": "stdout",
     "output_type": "stream",
     "text": [
      "('LEU', 15047123) ('ALA', 12865715) ('VAL', 11762323) ('GLY', 11617567) ('GLU', 10337357) ('SER', 9996209) ('LYS', 9584123) ('ILE', 9407503) ('THR', 9241629) ('ASP', 8877940) ('ARG', 8671916) ('PRO', 7390294) ('ASN', 6965993) ('PHE', 6592771) ('GLN', 6229934) ('TYR', 5746742) ('HIS', 3707878) ('MET', 3457470) ('G', 2312001) ('CYS', 2272961) ('TRP', 2211740) ('A', 1764992) ('C', 1758500) ('U', 1409447) ('UNK', 636029) ('DT', 157922) ('DG', 148973) ('DA', 147639) ('DC', 142642) ('MSE', 139413) ('NAG', 65962) ('MAN', 16775) ('BMA', 10865) ('GLC', 7459) ('MLY', 6886) ('PSU', 4276) ('BGC', 4019) ('ACE', 3812) ('FUC', 3738) ('GAL', 3386) ('HYP', 3255) ('SEP', 3174) ('NH2', 2853) ('TPO', 2215) ('N', 2119) ('CSO', 1806) ('5MC', 1787) ('PTR', 1719) ('KCX', 1699) ('FME', 1398)\n"
     ]
    }
   ],
   "source": [
    "print(*compound_counter.most_common(50))"
   ]
  },
  {
   "cell_type": "code",
   "execution_count": 13,
   "metadata": {},
   "outputs": [
    {
     "name": "stdout",
     "output_type": "stream",
     "text": [
      "6n7r 53\n",
      "6nd4 18\n",
      "1dv4 362\n",
      "6e1s 2\n",
      "6e1t 3\n",
      "6e1u 2\n",
      "6e1v 3\n",
      "6e1w 2\n",
      "7e9e 2\n",
      "1eg0 33\n",
      "5tzs 599\n",
      "4uer 14\n",
      "2i82 4\n",
      "1q2r 2\n",
      "1q2s 1\n",
      "1qd7 359\n",
      "6kr6 1\n",
      "1fyk 4\n",
      "6g90 34\n",
      "6yxx 88\n",
      "6yxy 18\n",
      "7o7y 73\n",
      "7o7z 73\n",
      "7o80 73\n",
      "7odr 31\n",
      "7ods 30\n",
      "7oqc 53\n",
      "7oqe 53\n",
      "4ce4 36\n",
      "6d06 1\n",
      "7lpg 1\n",
      "7lph 1\n",
      "4v8y 14\n",
      "4v8z 14\n",
      "4v88 40\n",
      "7mq8 22\n"
     ]
    }
   ],
   "source": [
    "for pdb, cs in compound_index.items():\n",
    "    if 'N' in cs:\n",
    "        print(pdb, cs['N'])"
   ]
  }
 ],
 "metadata": {
  "interpreter": {
   "hash": "31f2aee4e71d21fbe5cf8b01ff0e069b9275f58929596ceb00d14d90e3e16cd6"
  },
  "kernelspec": {
   "display_name": "Python 3.10.4 64-bit",
   "language": "python",
   "name": "python3"
  },
  "language_info": {
   "codemirror_mode": {
    "name": "ipython",
    "version": 3
   },
   "file_extension": ".py",
   "mimetype": "text/x-python",
   "name": "python",
   "nbconvert_exporter": "python",
   "pygments_lexer": "ipython3",
   "version": "3.10.4"
  },
  "orig_nbformat": 4
 },
 "nbformat": 4,
 "nbformat_minor": 2
}
