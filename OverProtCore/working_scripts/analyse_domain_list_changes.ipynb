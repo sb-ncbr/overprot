{
 "cells": [
  {
   "cell_type": "code",
   "execution_count": 1,
   "source": [
    "from pathlib import Path\n",
    "import re\n",
    "import requests\n",
    "import json\n",
    "from collections import defaultdict, Counter\n",
    "from typing import List, Tuple, Literal\n",
    "import numpy as np"
   ],
   "outputs": [],
   "metadata": {}
  },
  {
   "cell_type": "code",
   "execution_count": 2,
   "source": [
    "# To get domain list file from an update, run in bash:\n",
    "#     DATA=\"~/Workspace/Python/OverProt/data/multifamily\"\n",
    "#     python collect_domain_lists.py $DATA/all_unique_pdb-20210916/ $DATA/domain_list_20210916.csv"
   ],
   "outputs": [],
   "metadata": {}
  },
  {
   "cell_type": "code",
   "execution_count": 3,
   "source": [
    "LIST_DIR = Path('/home/adam/Workspace/Python/OverProt/data/multifamily/domain_lists_OverProt_database')\n",
    "RE_LIST_FILE = re.compile('domain_list_(.*)\\.csv')\n",
    "PDBEAPI_RELEASE_STATUS = 'https://www.ebi.ac.uk/pdbe/api/pdb/entry/status/{pdb}'"
   ],
   "outputs": [],
   "metadata": {}
  },
  {
   "cell_type": "code",
   "execution_count": 4,
   "source": [
    "list_files = sorted(LIST_DIR.glob('domain_list_*.csv'))\n",
    "# print(list_files)\n",
    "lists = {}\n",
    "dom2pdbchainranges = defaultdict(set)\n",
    "for list_file in list_files:\n",
    "    update_name = RE_LIST_FILE.match(list_file.name).group(1)\n",
    "    print(update_name)\n",
    "    the_list = []\n",
    "    with open(list_file) as r:\n",
    "        for line in r:\n",
    "            if line.strip() != '':\n",
    "                family, domain, pdb, chain, ranges = line.split()\n",
    "                the_list.append((family, domain))\n",
    "                dom2pdbchainranges[domain].add((pdb, chain, ranges))\n",
    "    lists[update_name] = the_list"
   ],
   "outputs": [
    {
     "output_type": "stream",
     "name": "stdout",
     "text": [
      "20201019\n",
      "20201217\n",
      "20210118\n",
      "20210217\n",
      "20210318\n",
      "20210419\n",
      "20210518\n",
      "20210617\n",
      "20210716\n",
      "20210816\n",
      "20210916\n"
     ]
    }
   ],
   "metadata": {}
  },
  {
   "cell_type": "code",
   "execution_count": 5,
   "source": [
    "dom_to_fams = defaultdict(set)\n",
    "for the_list in lists.values():\n",
    "    for family, domain in the_list:\n",
    "        dom_to_fams[domain].add(family)"
   ],
   "outputs": [],
   "metadata": {}
  },
  {
   "cell_type": "code",
   "execution_count": 6,
   "source": [
    "# Does any domain belong to more than 1 family?\n",
    "any(len(fams) != 1 for dom, fams in dom_to_fams.items())"
   ],
   "outputs": [
    {
     "output_type": "execute_result",
     "data": {
      "text/plain": [
       "False"
      ]
     },
     "metadata": {},
     "execution_count": 6
    }
   ],
   "metadata": {}
  },
  {
   "cell_type": "code",
   "execution_count": 7,
   "source": [
    "update_names = list(lists.keys())\n",
    "domain_sets = [set(dom for fam, dom in the_list) for the_list in lists.values()]\n",
    "all_domains = set.union(*domain_sets)\n",
    "static_domains = set.intersection(*domain_sets)\n",
    "changing_domains = sorted(all_domains - static_domains)\n",
    "\n",
    "print(f'All protein domains: {len(all_domains):6d}')\n",
    "print(f'Static domains:      {len(static_domains):6d}')\n",
    "print(f'Changing domains:    {len(changing_domains):6d}')"
   ],
   "outputs": [
    {
     "output_type": "stream",
     "name": "stdout",
     "text": [
      "All protein domains: 471896\n",
      "Static domains:      460482\n",
      "Changing domains:     11414\n"
     ]
    }
   ],
   "metadata": {}
  },
  {
   "cell_type": "code",
   "execution_count": 8,
   "source": [
    "print('Update    Domains  Missing')\n",
    "for update_name, the_list in lists.items():\n",
    "    print(f'{update_name}   {len(the_list):d}   {len(all_domains)-len(the_list):6d}')"
   ],
   "outputs": [
    {
     "output_type": "stream",
     "name": "stdout",
     "text": [
      "Update    Domains  Missing\n",
      "20201019   471896        0\n",
      "20201217   464291     7605\n",
      "20210118   469940     1956\n",
      "20210217   471324      572\n",
      "20210318   471322      574\n",
      "20210419   471258      638\n",
      "20210518   471293      603\n",
      "20210617   471331      565\n",
      "20210716   471326      570\n",
      "20210816   471308      588\n",
      "20210916   471284      612\n"
     ]
    }
   ],
   "metadata": {}
  },
  {
   "cell_type": "code",
   "execution_count": 9,
   "source": [
    "presence_profiles = {domain: [] for domain in sorted(all_domains)}\n",
    "for domain_set in domain_sets:\n",
    "    for dom in all_domains:\n",
    "        presence = int(dom in domain_set)\n",
    "        presence_profiles[dom].append(presence)\n",
    "presence_profiles = {domain: tuple(profile) for domain, profile in presence_profiles.items()}"
   ],
   "outputs": [],
   "metadata": {}
  },
  {
   "cell_type": "code",
   "execution_count": 10,
   "source": [
    "def is_addition_profile(profile: Tuple[int]) -> bool:\n",
    "    '''Decide if the profile has form [0]*m + [1]*n, where m, n >= 1, e.g. [0 0 0 1 1 1 1 1]'''\n",
    "    if profile[0]:\n",
    "        return False\n",
    "    added = False\n",
    "    for presence in profile:\n",
    "        if not added and presence:\n",
    "            added = True\n",
    "        elif added and not presence:\n",
    "            return False\n",
    "    return added\n",
    "    \n",
    "def is_deletion_profile(profile: Tuple[int]) -> bool:\n",
    "    '''Decide if the profile has form [1]*m + [0]*n, where m, n >= 1, e.g. [1 1 1 1 1 0 0 0]'''\n",
    "    return is_addition_profile(invert_profile(profile))\n",
    "\n",
    "def is_static_profile(profile: Tuple[int]) -> bool:\n",
    "    '''Decide if the profile has form [1]*m, where m >= 1, e.g. [1 1 1 1 1 1 1 1]'''\n",
    "    return all(profile)\n",
    "\n",
    "def is_fluctuating_profile(profile: Tuple[int]) -> bool:\n",
    "    '''Decide if the profile is fluctuating (i.e. not static or addition or deletion), e.g. [1 1 0 0 1 1 1 1]'''\n",
    "    return not is_static_profile(profile) and not is_addition_profile(profile) and not is_deletion_profile(profile)\n",
    "\n",
    "def profile_type(profile: Tuple[int]) -> Literal['static', 'addition', 'deletion', 'fluctuating']:\n",
    "    if is_static_profile(profile): return 'static'\n",
    "    elif is_addition_profile(profile): return 'addition'\n",
    "    elif is_deletion_profile(profile): return 'deletion'\n",
    "    else: return 'fluctuating'\n",
    "\n",
    "def invert_profile(profile: Tuple[int]) -> Tuple[int]:\n",
    "    return tuple(1-p for p in profile)"
   ],
   "outputs": [],
   "metadata": {}
  },
  {
   "cell_type": "code",
   "execution_count": 11,
   "source": [
    "static_profiles = {domain: profile for domain, profile in presence_profiles.items() if is_static_profile(profile)}\n",
    "addition_profiles = {domain: profile for domain, profile in presence_profiles.items() if is_addition_profile(profile)}\n",
    "deletion_profiles = {domain: profile for domain, profile in presence_profiles.items() if is_deletion_profile(profile)}\n",
    "fluctuating_profiles = {domain: profile for domain, profile in presence_profiles.items() if is_fluctuating_profile(profile)}\n",
    "\n",
    "print(f'Static profiles:      {len(static_profiles):6d}')\n",
    "print(f'Addition profiles:    {len(addition_profiles):6d}')\n",
    "print(f'Deletion profiles:    {len(deletion_profiles):6d}')\n",
    "print(f'Fluctuating profiles: {len(fluctuating_profiles):6d}')"
   ],
   "outputs": [
    {
     "output_type": "stream",
     "name": "stdout",
     "text": [
      "Static profiles:      460482\n",
      "Addition profiles:         0\n",
      "Deletion profiles:       254\n",
      "Fluctuating profiles:  11160\n"
     ]
    }
   ],
   "metadata": {}
  },
  {
   "cell_type": "code",
   "execution_count": 12,
   "source": [
    "print(f'From all changing profiles:')\n",
    "print(f'    Addition profiles:    {len(addition_profiles)/len(changing_domains):.2%}')\n",
    "print(f'    Deletion profiles:    {len(deletion_profiles)/len(changing_domains):.2%}')\n",
    "print(f'    Fluctuating profiles: {len(fluctuating_profiles)/len(changing_domains):.2%}')"
   ],
   "outputs": [
    {
     "output_type": "stream",
     "name": "stdout",
     "text": [
      "From all changing profiles:\n",
      "    Addition profiles:    0.00%\n",
      "    Deletion profiles:    2.23%\n",
      "    Fluctuating profiles: 97.77%\n"
     ]
    }
   ],
   "metadata": {}
  },
  {
   "cell_type": "code",
   "execution_count": 13,
   "source": [
    "for typ, criterion in [('static', is_static_profile), ('added', is_addition_profile), ('deleted', is_deletion_profile), ('fluctuating', is_fluctuating_profile)]:\n",
    "    with open(LIST_DIR/f'{typ}_domains.txt', 'w') as w:\n",
    "        for domain, profile in presence_profiles.items():\n",
    "            if criterion(profile):\n",
    "                print(domain, file=w)"
   ],
   "outputs": [],
   "metadata": {}
  },
  {
   "cell_type": "code",
   "execution_count": 14,
   "source": [
    "profile_counter = Counter(presence_profiles.values())\n",
    "unique_profiles = profile_counter.keys()\n",
    "for profile, count in profile_counter.most_common():\n",
    "    print(np.array(profile), f'{count:6n}', f'({profile_type(profile)})' if not is_fluctuating_profile(profile) else '')"
   ],
   "outputs": [
    {
     "output_type": "stream",
     "name": "stdout",
     "text": [
      "[1 1 1 1 1 1 1 1 1 1 1] 460482 (static)\n",
      "[1 0 1 1 1 1 1 1 1 1 1]   7460 \n",
      "[1 1 0 1 1 1 1 1 1 1 1]   1805 \n",
      "[1 1 1 1 1 1 1 0 0 1 1]    359 \n",
      "[1 1 1 0 0 1 1 1 1 0 1]    306 \n",
      "[1 1 1 1 1 0 1 1 1 1 1]    261 \n",
      "[1 1 1 1 1 1 0 1 1 1 0]    134 \n",
      "[1 1 1 1 1 1 1 1 1 1 0]    129 (deletion)\n",
      "[1 1 1 1 1 0 0 1 1 1 1]    115 \n",
      "[1 1 1 1 1 1 0 1 1 1 1]    107 \n",
      "[1 1 1 1 1 0 0 1 1 1 0]    101 \n",
      "[1 1 1 0 0 1 1 1 1 1 1]     85 \n",
      "[1 1 1 0 0 0 0 0 0 0 0]     45 (deletion)\n",
      "[1 1 1 1 1 1 1 1 1 0 1]     40 \n",
      "[1 1 0 0 0 1 1 1 1 0 1]     40 \n",
      "[1 1 1 1 1 0 1 1 1 1 0]     36 \n",
      "[1 1 0 1 1 1 1 0 0 1 1]     35 \n",
      "[1 0 0 1 1 1 1 1 1 1 1]     34 \n",
      "[1 1 1 1 1 1 0 0 0 0 0]     28 (deletion)\n",
      "[1 0 1 1 1 1 1 1 1 1 0]     26 \n",
      "[1 0 1 0 0 1 1 1 1 0 1]     25 \n",
      "[1 1 0 0 0 1 1 1 1 1 1]     23 \n",
      "[1 1 1 1 1 1 1 0 0 0 0]     22 (deletion)\n",
      "[1 0 1 1 1 1 0 1 1 1 0]     20 \n",
      "[1 1 1 1 1 0 1 0 0 1 1]     18 \n",
      "[1 1 1 1 1 1 1 1 1 0 0]     16 (deletion)\n",
      "[1 0 1 1 1 0 1 1 1 1 1]     15 \n",
      "[1 0 1 1 1 1 1 0 0 1 1]     15 \n",
      "[1 1 0 1 1 1 1 1 1 0 1]     10 \n",
      "[1 1 1 0 0 0 1 1 1 0 1]     10 \n",
      "[1 1 1 1 1 1 0 0 0 1 0]      9 \n",
      "[1 1 1 1 1 0 0 0 0 1 1]      8 \n",
      "[1 1 1 0 0 1 1 1 1 0 0]      6 \n",
      "[1 1 1 1 1 0 0 0 0 1 0]      6 \n",
      "[1 1 1 1 1 1 1 0 0 1 0]      5 \n",
      "[1 1 1 0 0 1 0 1 1 0 0]      5 \n",
      "[1 0 1 1 1 1 1 1 1 0 1]      4 \n",
      "[1 1 1 0 0 1 0 1 1 0 1]      4 \n",
      "[1 1 1 1 1 1 1 1 0 0 0]      4 (deletion)\n",
      "[1 1 1 1 0 0 0 0 0 0 0]      4 (deletion)\n",
      "[1 1 1 0 0 0 0 1 1 0 0]      3 \n",
      "[1 1 1 0 1 1 1 1 1 1 1]      3 \n",
      "[1 1 1 1 0 1 1 1 1 0 1]      3 \n",
      "[1 1 0 0 0 0 0 0 0 0 0]      3 (deletion)\n",
      "[1 1 0 0 1 1 1 1 1 1 1]      2 \n",
      "[1 1 1 1 1 0 1 0 0 1 0]      2 \n",
      "[1 0 1 0 0 1 1 1 1 1 1]      2 \n",
      "[1 1 1 1 1 0 0 0 0 0 0]      2 (deletion)\n",
      "[1 1 1 1 1 1 1 1 0 1 1]      2 \n",
      "[1 1 1 0 0 0 0 1 1 1 0]      1 \n",
      "[1 0 1 1 1 1 0 0 0 1 0]      1 \n",
      "[1 1 1 0 0 0 0 1 1 0 1]      1 \n",
      "[1 1 1 1 1 1 0 0 0 1 1]      1 \n",
      "[1 0 0 0 0 1 1 1 1 1 1]      1 \n",
      "[1 1 1 1 1 1 0 1 1 0 0]      1 \n",
      "[1 1 1 0 0 1 0 1 1 1 0]      1 \n",
      "[1 1 1 0 1 0 0 1 1 1 1]      1 \n",
      "[1 1 0 1 0 1 1 1 1 0 1]      1 \n",
      "[1 1 0 0 0 0 1 1 1 1 1]      1 \n",
      "[1 0 1 0 0 0 1 1 1 0 1]      1 \n",
      "[1 0 0 0 0 0 0 0 0 0 0]      1 (deletion)\n",
      "[1 1 1 1 1 0 1 1 1 0 1]      1 \n",
      "[1 1 1 0 0 0 1 1 1 1 1]      1 \n",
      "[1 1 1 0 0 0 1 1 1 0 0]      1 \n",
      "[1 1 1 1 1 1 1 0 1 1 1]      1 \n",
      "[1 1 1 1 1 1 0 1 1 0 1]      1 \n"
     ]
    }
   ],
   "metadata": {}
  },
  {
   "cell_type": "code",
   "execution_count": 15,
   "source": [
    "for domain, profile in presence_profiles.items():\n",
    "    if profile == (1, 1, 0, 1, 1, 1, 1, 0, 0, 1):\n",
    "        print(domain, profile)"
   ],
   "outputs": [],
   "metadata": {}
  },
  {
   "cell_type": "code",
   "execution_count": 16,
   "source": [
    "example_domain = '1vstA00'\n",
    "print(example_domain, np.array(presence_profiles[example_domain]))"
   ],
   "outputs": [
    {
     "output_type": "stream",
     "name": "stdout",
     "text": [
      "1vstA00 [1 1 0 1 1 1 1 0 0 1 1]\n"
     ]
    }
   ],
   "metadata": {}
  },
  {
   "cell_type": "code",
   "execution_count": 24,
   "source": [
    "deleted_active_domains = []\n",
    "deleted_obsolete_domains = []\n",
    "for domain, profile in deletion_profiles.items():\n",
    "    pdb = domain[:4]\n",
    "    url = PDBEAPI_RELEASE_STATUS.format(pdb=pdb)\n",
    "    response = requests.get(url).text\n",
    "    js = json.loads(response)\n",
    "    assert len(js[pdb]) == 1\n",
    "    status = js[pdb][0]['status_code']\n",
    "    if status == 'REL':\n",
    "        deleted_active_domains.append(domain)\n",
    "    elif status == 'OBS':\n",
    "        deleted_obsolete_domains.append(domain)\n",
    "    else:\n",
    "        raise Exception(f'Unknown release status: {status}')\n",
    "print(f'Deleted active domains:   {len(deleted_active_domains):6d}')\n",
    "print(f'Deleted obsolete domains: {len(deleted_obsolete_domains):6d}')"
   ],
   "outputs": [],
   "metadata": {}
  },
  {
   "cell_type": "code",
   "execution_count": 25,
   "source": [
    "for domain, profile in deletion_profiles.items():\n",
    "    deleted_in_last = all(profile[:-1]) and not profile[-1]\n",
    "    if not deleted_in_last and domain in deleted_active_domains:\n",
    "        print(domain, end=', ')"
   ],
   "outputs": [],
   "metadata": {}
  },
  {
   "cell_type": "code",
   "execution_count": null,
   "source": [
    "for domset in domain_sets:\n",
    "    for domset2 in domain_sets:\n",
    "        print(int(domset <= domset2), end='  ')\n",
    "    print()"
   ],
   "outputs": [
    {
     "output_type": "stream",
     "name": "stdout",
     "text": [
      "1  0  0  0  0  0  0  0  0  0  0  \n",
      "1  1  0  0  0  0  0  0  0  0  0  \n",
      "1  0  1  0  0  0  0  0  0  0  0  \n",
      "1  0  0  1  0  0  0  0  0  0  0  \n",
      "1  0  0  0  1  0  0  0  0  0  0  \n",
      "1  0  0  0  0  1  0  0  0  0  0  \n",
      "1  0  0  0  0  0  1  0  0  0  0  \n",
      "1  0  0  0  0  0  0  1  0  0  0  \n",
      "1  0  0  0  0  0  0  0  1  0  0  \n",
      "1  0  0  0  0  0  0  0  0  1  0  \n",
      "1  0  0  0  0  0  0  0  0  0  1  \n"
     ]
    }
   ],
   "metadata": {}
  },
  {
   "cell_type": "code",
   "execution_count": 18,
   "source": [
    "dom_to_fam = {dom: next(iter(fams)) for dom, fams in dom_to_fams.items()}\n",
    "messy_families = sorted(set(dom_to_fam[dom] for dom in fluctuating_profiles.keys()))\n",
    "n_messy_families = len(messy_families)\n",
    "n_families = len(set(dom_to_fam.values()))\n",
    "print(f'Families with at least one fluctuating domain: {n_messy_families:6d}')\n",
    "print(f'Total non-empty families in CATH:              {n_families:6d}')"
   ],
   "outputs": [
    {
     "output_type": "stream",
     "name": "stdout",
     "text": [
      "Families with at least one fluctuating domain:   1008\n",
      "Total non-empty families in CATH:                6567\n"
     ]
    }
   ],
   "metadata": {}
  },
  {
   "cell_type": "code",
   "execution_count": null,
   "source": [
    "messy_immunoglobulins = [dom for dom, prof in fluctuating_profiles.items() if dom_to_fam[dom] == '2.60.40.10']\n",
    "print(len(messy_immunoglobulins))\n",
    "print(*messy_immunoglobulins)\n",
    "for dom in messy_immunoglobulins:\n",
    "    print(dom, np.array(presence_profiles[dom]))\n"
   ],
   "outputs": [
    {
     "output_type": "stream",
     "name": "stdout",
     "text": [
      "143\n",
      "1cg9B00 1d6vH01 1d6vL01 1f6aB01 1hxmF01 1hxyA02 1kfaM02 1owwA00 1ut9A01 1wwcA00 2d7qA01 2dijA03 2qkiE02 2x1pB00 2x1pD00 2x1wL01 2x2yA02 3bquD02 3c5jB02 3difD01 3ew3C01 3f65C02 3fqrA02 3k0wA01 3k0wA02 3piqG01 3qa3D01 3qazF01 3qazN02 3qazW01 3qazd02 3qpqE01 3rpiH01 3rpiL01 3utpD02 3utzA01 4bq6B02 4bq9A02 4bqbC01 4fqjL02 4fqlL01 4fxlA00 4hemE00 4k07A00 4k07B00 4k07C00 4k07D00 4k07E00 4k07F00 4k07G00 4k07H00 4k07I00 4k07J00 4kfzD00 4ki5F01 4ll9B01 4ll9B02 4lldA00 4m5yL01 4m5zH01 4mayD02 4n90E01 4n9gH02 4pjfF02 4pjhG02 4pjhH02 4pjiF01 4pjiG01 4pjxH02 4ut6I00 4ut9M00 4utaH01 4utaM01 4wu7A02 4ww1A01 4ww1A02 4ww1B01 4ww1B02 4ww2A01 4ww2A02 4ww2B01 4ww2B02 4ww2C02 4ww2F00 4wwiD01 4wwiD02 4wwiE01 4wwiE02 4wwiF01 4wwiF02 4wwkA01 4wwkA02 4wwkB01 4wwkB02 4wwkC02 4wwkD00 4xb8A04 4xbgA01 4xbpF02 4xpbL01 4y4fA02 4y4fC02 4y4fH01 4z5rT02 5c71C02 5cgyC01 5d7iD00 5d7iG01 5d7kD01 5d7lC02 5dfvC01 5f6hO02 5l0qB02 5utyL02 5v4mD02 5v4mJ02 5wwiA02 5wwiB00 5wwjA02 5wwjB00 5wwjC02 5wwjD00 5wwuA02 5wwuB00 5x08L01 5x0tB01 5x0tC02 5x2mK02 5x2oJ02 5x2pJ02 5y9fO01 5ziaB02 5ziaI01 6brbD00 6df2L02 6dfqE01 6dfqH02 6dfvD02 6fxnI02 6gh4C02 6ghgB01 6ghgL01 6ghnD00\n",
      "1cg9B00 [1 1 1 0 0 1 1 1 1 1 1]\n",
      "1d6vH01 [1 1 1 0 0 1 1 1 1 0 1]\n",
      "1d6vL01 [1 1 1 0 0 1 1 1 1 0 1]\n",
      "1f6aB01 [1 1 1 0 0 1 1 1 1 0 1]\n",
      "1hxmF01 [1 1 1 0 0 1 1 1 1 0 1]\n",
      "1hxyA02 [1 1 1 0 0 1 1 1 1 0 1]\n",
      "1kfaM02 [1 1 1 1 1 1 1 0 0 1 1]\n",
      "1owwA00 [1 1 1 0 0 1 1 1 1 0 1]\n",
      "1ut9A01 [1 1 1 1 1 1 1 0 0 1 1]\n",
      "1wwcA00 [1 1 0 1 1 1 1 1 1 1 1]\n",
      "2d7qA01 [1 1 1 1 1 1 1 1 1 0 1]\n",
      "2dijA03 [1 1 1 0 0 1 1 1 1 0 1]\n",
      "2qkiE02 [1 1 1 1 1 1 1 0 0 1 1]\n",
      "2x1pB00 [1 1 1 0 0 1 1 1 1 0 1]\n",
      "2x1pD00 [1 1 1 0 0 1 1 1 1 0 1]\n",
      "2x1wL01 [1 1 1 0 0 1 1 1 1 0 1]\n",
      "2x2yA02 [1 1 1 0 0 1 1 1 1 1 1]\n",
      "3bquD02 [1 1 1 1 1 1 1 1 1 0 1]\n",
      "3c5jB02 [1 1 1 0 0 1 1 1 1 0 1]\n",
      "3difD01 [1 1 1 0 0 1 1 1 1 0 1]\n",
      "3ew3C01 [1 1 1 0 0 1 1 1 1 0 1]\n",
      "3f65C02 [1 1 1 0 0 1 1 1 1 0 1]\n",
      "3fqrA02 [1 1 1 0 0 1 1 1 1 0 1]\n",
      "3k0wA01 [1 1 0 1 1 1 1 1 1 1 1]\n",
      "3k0wA02 [1 1 0 1 1 1 1 1 1 1 1]\n",
      "3piqG01 [1 1 1 0 0 1 1 1 1 0 1]\n",
      "3qa3D01 [1 1 1 1 1 1 1 0 0 1 1]\n",
      "3qazF01 [1 1 1 1 1 1 1 0 0 1 1]\n",
      "3qazN02 [1 1 1 1 1 1 1 0 0 1 1]\n",
      "3qazW01 [1 1 1 1 1 1 1 0 0 1 1]\n",
      "3qazd02 [1 1 1 1 1 1 1 0 0 1 1]\n",
      "3qpqE01 [1 1 1 0 0 1 1 1 1 0 1]\n",
      "3rpiH01 [1 1 1 1 1 1 1 0 0 1 1]\n",
      "3rpiL01 [1 1 1 1 1 1 1 0 0 1 1]\n",
      "3utpD02 [1 1 1 1 1 1 1 0 0 1 1]\n",
      "3utzA01 [1 1 1 1 1 1 1 0 0 1 1]\n",
      "4bq6B02 [1 1 1 1 1 1 1 1 1 0 1]\n",
      "4bq9A02 [1 1 1 1 1 1 1 1 1 0 1]\n",
      "4bqbC01 [1 1 1 1 1 1 1 1 1 0 1]\n",
      "4fqjL02 [1 1 1 0 0 1 1 1 1 0 1]\n",
      "4fqlL01 [1 1 1 0 0 1 1 1 1 0 1]\n",
      "4fxlA00 [1 1 1 1 1 1 1 0 0 1 1]\n",
      "4hemE00 [1 1 1 1 1 1 1 0 0 1 1]\n",
      "4k07A00 [1 1 0 1 1 1 1 1 1 1 1]\n",
      "4k07B00 [1 1 0 1 1 1 1 1 1 1 1]\n",
      "4k07C00 [1 1 0 1 1 1 1 1 1 1 1]\n",
      "4k07D00 [1 1 0 1 1 1 1 1 1 1 1]\n",
      "4k07E00 [1 1 0 1 1 1 1 1 1 1 1]\n",
      "4k07F00 [1 1 0 1 1 1 1 1 1 1 1]\n",
      "4k07G00 [1 1 0 1 1 1 1 1 1 1 1]\n",
      "4k07H00 [1 1 0 1 1 1 1 1 1 1 1]\n",
      "4k07I00 [1 1 0 1 1 1 1 1 1 1 1]\n",
      "4k07J00 [1 1 0 1 1 1 1 1 1 1 1]\n",
      "4kfzD00 [1 1 1 1 1 1 1 0 0 1 1]\n",
      "4ki5F01 [1 1 1 1 1 1 1 0 0 1 1]\n",
      "4ll9B01 [1 1 1 1 1 1 1 0 0 1 1]\n",
      "4ll9B02 [1 1 1 1 1 1 1 0 0 1 1]\n",
      "4lldA00 [1 1 1 1 1 1 1 0 0 1 1]\n",
      "4m5yL01 [1 1 1 1 1 1 1 0 0 1 1]\n",
      "4m5zH01 [1 1 1 1 1 1 1 0 0 1 1]\n",
      "4mayD02 [1 1 1 0 0 1 1 1 1 0 1]\n",
      "4n90E01 [1 1 1 1 1 1 1 0 0 1 1]\n",
      "4n9gH02 [1 1 1 1 1 1 1 0 0 1 1]\n",
      "4pjfF02 [1 1 1 0 0 1 1 1 1 0 1]\n",
      "4pjhG02 [1 1 1 0 0 1 1 1 1 0 1]\n",
      "4pjhH02 [1 1 1 0 0 1 1 1 1 0 1]\n",
      "4pjiF01 [1 1 1 0 0 1 1 1 1 0 1]\n",
      "4pjiG01 [1 1 1 0 0 1 1 1 1 0 1]\n",
      "4pjxH02 [1 1 1 0 0 1 1 1 1 0 1]\n",
      "4ut6I00 [1 1 1 1 1 1 1 0 0 1 1]\n",
      "4ut9M00 [1 1 1 1 1 1 1 0 0 1 1]\n",
      "4utaH01 [1 1 1 1 1 1 1 0 0 1 1]\n",
      "4utaM01 [1 1 1 1 1 1 1 0 0 1 1]\n",
      "4wu7A02 [1 1 1 0 0 1 1 1 1 0 1]\n",
      "4ww1A01 [1 1 0 1 1 1 1 1 1 1 1]\n",
      "4ww1A02 [1 1 0 1 1 1 1 1 1 1 1]\n",
      "4ww1B01 [1 1 0 1 1 1 1 1 1 1 1]\n",
      "4ww1B02 [1 1 0 1 1 1 1 1 1 1 1]\n",
      "4ww2A01 [1 1 0 1 1 1 1 1 1 1 1]\n",
      "4ww2A02 [1 1 0 1 1 1 1 1 1 1 1]\n",
      "4ww2B01 [1 1 0 1 1 1 1 1 1 1 1]\n",
      "4ww2B02 [1 1 0 1 1 1 1 1 1 1 1]\n",
      "4ww2C02 [1 1 0 1 1 1 1 1 1 1 1]\n",
      "4ww2F00 [1 1 0 1 1 1 1 1 1 1 1]\n",
      "4wwiD01 [1 1 0 1 1 1 1 1 1 1 1]\n",
      "4wwiD02 [1 1 0 1 1 1 1 1 1 1 1]\n",
      "4wwiE01 [1 1 0 1 1 1 1 1 1 1 1]\n",
      "4wwiE02 [1 1 0 1 1 1 1 1 1 1 1]\n",
      "4wwiF01 [1 1 0 1 1 1 1 1 1 1 1]\n",
      "4wwiF02 [1 1 0 1 1 1 1 1 1 1 1]\n",
      "4wwkA01 [1 1 0 1 1 1 1 1 1 1 1]\n",
      "4wwkA02 [1 1 0 1 1 1 1 1 1 1 1]\n",
      "4wwkB01 [1 1 0 1 1 1 1 1 1 1 1]\n",
      "4wwkB02 [1 1 0 1 1 1 1 1 1 1 1]\n",
      "4wwkC02 [1 1 0 1 1 1 1 1 1 1 1]\n",
      "4wwkD00 [1 1 0 1 1 1 1 1 1 1 1]\n",
      "4xb8A04 [1 1 1 0 0 1 1 1 1 1 1]\n",
      "4xbgA01 [1 1 1 0 0 1 1 1 1 1 1]\n",
      "4xbpF02 [1 1 1 0 0 1 1 1 1 1 1]\n",
      "4xpbL01 [1 1 1 1 1 1 1 0 0 1 1]\n",
      "4y4fA02 [1 1 1 0 0 1 1 1 1 1 1]\n",
      "4y4fC02 [1 1 1 0 0 1 1 1 1 1 1]\n",
      "4y4fH01 [1 1 1 0 0 1 1 1 1 1 1]\n",
      "4z5rT02 [1 1 1 0 0 1 1 1 1 0 1]\n",
      "5c71C02 [1 1 1 1 1 1 1 0 0 1 1]\n",
      "5cgyC01 [1 1 1 0 0 1 1 1 1 1 1]\n",
      "5d7iD00 [1 1 1 1 1 1 1 1 1 0 1]\n",
      "5d7iG01 [1 1 1 1 1 1 1 1 1 0 1]\n",
      "5d7kD01 [1 1 1 1 1 1 1 1 1 0 1]\n",
      "5d7lC02 [1 1 1 1 1 1 1 1 1 0 1]\n",
      "5dfvC01 [1 1 1 0 0 1 1 1 1 0 1]\n",
      "5f6hO02 [1 1 1 0 0 1 1 1 1 0 1]\n",
      "5l0qB02 [1 1 1 1 1 1 1 0 0 1 1]\n",
      "5utyL02 [1 1 1 1 1 1 1 0 0 1 1]\n",
      "5v4mD02 [1 1 1 0 0 1 1 1 1 1 1]\n",
      "5v4mJ02 [1 1 1 0 0 1 1 1 1 1 1]\n",
      "5wwiA02 [1 1 0 0 0 1 1 1 1 1 1]\n",
      "5wwiB00 [1 1 0 1 1 1 1 1 1 1 1]\n",
      "5wwjA02 [1 1 0 1 1 1 1 1 1 1 1]\n",
      "5wwjB00 [1 1 0 1 1 1 1 1 1 1 1]\n",
      "5wwjC02 [1 1 0 1 1 1 1 1 1 1 1]\n",
      "5wwjD00 [1 1 0 1 1 1 1 1 1 1 1]\n",
      "5wwuA02 [1 1 0 1 1 1 1 1 1 1 1]\n",
      "5wwuB00 [1 1 0 1 1 1 1 1 1 1 1]\n",
      "5x08L01 [1 1 1 1 1 1 1 0 0 1 1]\n",
      "5x0tB01 [1 1 1 1 1 1 1 0 0 1 1]\n",
      "5x0tC02 [1 1 1 1 1 1 1 0 0 1 1]\n",
      "5x2mK02 [1 1 1 0 0 1 1 1 1 1 1]\n",
      "5x2oJ02 [1 1 1 0 0 1 1 1 1 1 1]\n",
      "5x2pJ02 [1 1 1 0 0 1 1 1 1 1 1]\n",
      "5y9fO01 [1 1 1 1 1 1 1 0 0 1 1]\n",
      "5ziaB02 [1 1 1 1 1 1 1 0 0 1 1]\n",
      "5ziaI01 [1 1 1 1 1 1 1 0 0 1 1]\n",
      "6brbD00 [1 1 1 1 1 1 1 0 0 1 1]\n",
      "6df2L02 [1 1 1 0 0 1 1 1 1 0 1]\n",
      "6dfqE01 [1 1 1 0 0 1 1 1 1 0 1]\n",
      "6dfqH02 [1 1 1 0 0 1 1 1 1 0 1]\n",
      "6dfvD02 [1 1 1 0 0 1 1 1 1 0 1]\n",
      "6fxnI02 [1 1 1 1 1 1 1 0 0 1 1]\n",
      "6gh4C02 [1 1 1 1 1 1 1 0 0 1 1]\n",
      "6ghgB01 [1 1 1 1 1 1 1 0 0 1 1]\n",
      "6ghgL01 [1 1 1 1 1 1 1 0 0 1 1]\n",
      "6ghnD00 [1 1 1 1 1 1 1 0 0 1 1]\n"
     ]
    }
   ],
   "metadata": {}
  },
  {
   "cell_type": "code",
   "execution_count": null,
   "source": [
    "fluct_range_domains = []\n",
    "chain_weirdos = []\n",
    "ranges_weirdos = []\n",
    "fluct_fragment_domains = []\n",
    "for dom, pdbchainranges in dom2pdbchainranges.items():\n",
    "    if len(pdbchainranges) != 1:\n",
    "        fluct_range_domains.append(dom)\n",
    "        # print(dom, *pdbchainranges)\n",
    "        (pdb1, chain1, ranges1), (pdb2, chain2, ranges2) = pdbchainranges\n",
    "        assert pdb1 == pdb2\n",
    "        if chain1 == chain2:\n",
    "            rangeset1 = set(ranges1.split(','))\n",
    "            rangeset2 = set(ranges2.split(','))\n",
    "            if rangeset1 < rangeset2 or rangeset2 < rangeset1:\n",
    "                fluct_fragment_domains.append((dom, pdbchainranges))\n",
    "            else:\n",
    "                ranges_weirdos.append((dom, pdbchainranges))\n",
    "            # if not (ranges1.startswith(ranges2) or ranges1.endswith(ranges2) or ranges2.startswith(ranges1) or ranges2.endswith(ranges1)):\n",
    "            #     ranges_weirdos.append((dom, pdbchainranges))\n",
    "        else:\n",
    "            chain_weirdos.append((dom, pdbchainranges))\n",
    "\n",
    "print('Domains with fluctuating ranges:', len(fluct_range_domains))\n",
    "Counter(len(pdbchainranges) for pdbchainranges in dom2pdbchainranges.values())\n",
    "print(f'Domains with whole fluctuating fragments [{len(fluct_fragment_domains)}]:', '...', sep='\\n    ')\n",
    "print(f'Weird cases (chain-wise) [{len(chain_weirdos)}]:', *chain_weirdos, sep='\\n    ')\n",
    "print(f'Weird cases (range-wise) [{len(ranges_weirdos)}]:', *ranges_weirdos, sep='\\n    ')"
   ],
   "outputs": [
    {
     "output_type": "stream",
     "name": "stdout",
     "text": [
      "Domains with fluctuating ranges: 1319\n",
      "Domains with whole fluctuating fragments [1303]:\n",
      "    ...\n",
      "Weird cases (chain-wise) [10]:\n",
      "    ('6nj9A00', {('6nj9', 'G', '37:135'), ('6nj9', 'A', '37:135')})\n",
      "    ('6nj9B00', {('6nj9', 'J', '15:102'), ('6nj9', 'B', '15:102')})\n",
      "    ('6nj9C00', {('6nj9', 'C', '11:119'), ('6nj9', 'I', '11:119')})\n",
      "    ('6nj9D00', {('6nj9', 'H', '27:121'), ('6nj9', 'D', '27:121')})\n",
      "    ('6nj9E00', {('6nj9', 'E', '37:135'), ('6nj9', 'F', '37:135')})\n",
      "    ('6nj9F00', {('6nj9', 'A', '15:102'), ('6nj9', 'F', '15:102')})\n",
      "    ('6nj9G00', {('6nj9', 'B', '11:119'), ('6nj9', 'G', '11:119')})\n",
      "    ('6nj9H00', {('6nj9', 'C', '27:121'), ('6nj9', 'H', '27:121')})\n",
      "    ('6nj9K01', {('6nj9', 'K', '4:126'), ('6nj9', 'D', '4:126')})\n",
      "    ('6nj9K02', {('6nj9', 'D', '141:332'), ('6nj9', 'K', '141:332')})\n",
      "Weird cases (range-wise) [6]:\n",
      "    ('6d3oA00', {('6d3o', 'A', '7:102'), ('6d3o', 'A', '6:101')})\n",
      "    ('6d3oB00', {('6d3o', 'B', '6:100'), ('6d3o', 'B', '7:101')})\n",
      "    ('4zecA03', {('4zec', 'A', '252:461'), ('4zec', 'A', '255:464')})\n",
      "    ('6feiA00', {('6fei', 'A', '7:333'), ('6fei', 'A', '6:332')})\n",
      "    ('4zecA01', {('4zec', 'A', '1:34,153:251,462:490'), ('4zec', 'A', '4:37,156:254,465:493')})\n",
      "    ('4zecA02', {('4zec', 'A', '38:155'), ('4zec', 'A', '35:152')})\n"
     ]
    }
   ],
   "metadata": {}
  },
  {
   "cell_type": "code",
   "execution_count": 20,
   "source": [
    "1653-1586"
   ],
   "outputs": [
    {
     "output_type": "execute_result",
     "data": {
      "text/plain": [
       "67"
      ]
     },
     "metadata": {},
     "execution_count": 20
    }
   ],
   "metadata": {}
  },
  {
   "cell_type": "code",
   "execution_count": 22,
   "source": [
    "deleted_cyps = [dom for dom, prof in deletion_profiles.items() if dom_to_fam[dom] == '1.10.630.10']\n",
    "print('Deleted CYPs', len(deleted_cyps))\n",
    "print(*deleted_cyps)\n",
    "for dom in deleted_cyps:\n",
    "    print(dom, np.array(presence_profiles[dom]))"
   ],
   "outputs": [
    {
     "output_type": "stream",
     "name": "stdout",
     "text": [
      "Deleted CYPs 0\n",
      "\n"
     ]
    }
   ],
   "metadata": {}
  },
  {
   "cell_type": "code",
   "execution_count": 19,
   "source": [
    "messy_cyps = [dom for dom, prof in fluctuating_profiles.items() if dom_to_fam[dom] == '1.10.630.10']\n",
    "print('Fluctuating CYPs:', len(messy_cyps))\n",
    "print(*messy_cyps)\n",
    "for dom in messy_cyps:\n",
    "    print(dom, np.array(presence_profiles[dom]))"
   ],
   "outputs": [
    {
     "output_type": "stream",
     "name": "stdout",
     "text": [
      "52\n",
      "1fahB00 1izoA00 1j51D00 1jpzB00 1p0xB00 1uedB00 1yqpA00 1z11D00 2a1oA00 2fdvD00 2iagA00 2p85C00 2qbnA00 2rfbA00 2rfcC00 2wx2A00 2x2nC00 2ycaA00 3g5fA00 3l62A00 3lc4B00 3mzsB00 3nc3B00 3nplA00 3psxB00 3tmzA00 3w9cA00 3wrkA00 3zbyA00 3zbyD00 4g7gC00 4k9vA00 4kewA00 4l0eA00 4l4cA00 4nkxC00 4nkzD00 4tpnA00 4triA00 4zdzA01 4zgxE00 5de9B00 5e58E00 5jq2A00 5jquC00 5jquD00 5jquE00 5kyoC00 5veuK00 5yhjB00 6dwmD00 6fyjA00\n",
      "1fahB00 [1 1 1 1 1 0 0 1 1 1 0]\n",
      "1izoA00 [1 1 1 1 1 0 0 1 1 1 0]\n",
      "1j51D00 [1 1 1 1 1 0 0 1 1 1 0]\n",
      "1jpzB00 [1 1 1 1 1 0 0 1 1 1 0]\n",
      "1p0xB00 [1 1 1 1 1 0 0 1 1 1 0]\n",
      "1uedB00 [1 1 1 1 1 0 0 1 1 1 0]\n",
      "1yqpA00 [1 1 1 0 0 0 0 1 1 0 0]\n",
      "1z11D00 [1 1 1 1 1 0 0 1 1 1 0]\n",
      "2a1oA00 [1 1 1 1 1 0 0 1 1 1 0]\n",
      "2fdvD00 [1 1 1 1 1 0 0 1 1 1 0]\n",
      "2iagA00 [1 1 1 1 1 0 0 1 1 1 0]\n",
      "2p85C00 [1 1 1 1 1 0 0 1 1 1 0]\n",
      "2qbnA00 [1 1 1 1 1 0 0 1 1 1 0]\n",
      "2rfbA00 [1 1 1 1 1 0 0 0 0 1 0]\n",
      "2rfcC00 [1 1 1 1 1 0 0 0 0 1 0]\n",
      "2wx2A00 [1 1 1 1 1 0 0 1 1 1 0]\n",
      "2x2nC00 [1 1 1 0 0 0 0 1 1 1 0]\n",
      "2ycaA00 [1 1 1 1 1 0 0 1 1 1 0]\n",
      "3g5fA00 [1 1 1 1 1 0 0 1 1 1 0]\n",
      "3l62A00 [1 1 1 1 1 0 0 1 1 1 0]\n",
      "3lc4B00 [1 1 1 1 1 0 0 1 1 1 0]\n",
      "3mzsB00 [1 1 1 1 1 0 0 1 1 1 0]\n",
      "3nc3B00 [1 1 1 1 1 0 0 1 1 1 0]\n",
      "3nplA00 [1 1 1 1 1 0 0 1 1 1 0]\n",
      "3psxB00 [1 1 1 1 1 0 0 1 1 1 0]\n",
      "3tmzA00 [1 1 1 1 1 0 0 0 0 1 0]\n",
      "3w9cA00 [1 1 1 1 1 0 0 1 1 1 0]\n",
      "3wrkA00 [1 1 1 1 1 0 0 1 1 1 0]\n",
      "3zbyA00 [1 1 1 1 1 0 0 1 1 1 0]\n",
      "3zbyD00 [1 1 1 1 1 0 0 1 1 1 0]\n",
      "4g7gC00 [1 1 1 1 1 0 0 1 1 1 0]\n",
      "4k9vA00 [1 1 1 1 1 0 0 1 1 1 0]\n",
      "4kewA00 [1 1 1 1 1 0 0 1 1 1 0]\n",
      "4l0eA00 [1 1 1 1 1 0 0 0 0 1 0]\n",
      "4l4cA00 [1 1 1 1 1 0 0 1 1 1 0]\n",
      "4nkxC00 [1 1 1 1 1 0 0 1 1 1 0]\n",
      "4nkzD00 [1 1 1 1 1 0 0 1 1 1 0]\n",
      "4tpnA00 [1 1 1 1 1 0 0 1 1 1 0]\n",
      "4triA00 [1 1 1 1 1 0 0 1 1 1 0]\n",
      "4zdzA01 [1 1 1 1 1 0 0 0 0 1 0]\n",
      "4zgxE00 [1 1 1 1 1 0 0 1 1 1 0]\n",
      "5de9B00 [1 1 1 1 1 0 0 1 1 1 0]\n",
      "5e58E00 [1 1 1 1 1 0 0 1 1 1 0]\n",
      "5jq2A00 [1 1 1 1 1 0 0 1 1 1 0]\n",
      "5jquC00 [1 1 1 1 1 0 0 1 1 1 0]\n",
      "5jquD00 [1 1 1 1 1 0 0 1 1 1 0]\n",
      "5jquE00 [1 1 1 1 1 0 0 1 1 1 0]\n",
      "5kyoC00 [1 1 1 1 1 0 0 1 1 1 0]\n",
      "5veuK00 [1 1 1 1 1 0 0 1 1 1 0]\n",
      "5yhjB00 [1 1 1 1 1 0 0 1 1 1 0]\n",
      "6dwmD00 [1 1 1 1 1 0 0 1 1 1 0]\n",
      "6fyjA00 [1 1 1 1 1 0 0 1 1 1 0]\n"
     ]
    }
   ],
   "metadata": {}
  }
 ],
 "metadata": {
  "orig_nbformat": 4,
  "language_info": {
   "name": "python",
   "version": "3.8.10",
   "mimetype": "text/x-python",
   "codemirror_mode": {
    "name": "ipython",
    "version": 3
   },
   "pygments_lexer": "ipython3",
   "nbconvert_exporter": "python",
   "file_extension": ".py"
  },
  "kernelspec": {
   "name": "python3",
   "display_name": "Python 3.8.10 64-bit"
  },
  "interpreter": {
   "hash": "e7370f93d1d0cde622a1f8e1c04877d8463912d04d973331ad4851f04de6915a"
  }
 },
 "nbformat": 4,
 "nbformat_minor": 2
}