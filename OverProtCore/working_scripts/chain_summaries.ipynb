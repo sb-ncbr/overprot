{
 "cells": [
  {
   "cell_type": "code",
   "execution_count": 1,
   "metadata": {},
   "outputs": [],
   "source": [
    "from pathlib import Path\n",
    "from collections import Counter, defaultdict\n",
    "import json\n",
    "\n",
    "datadir = Path('/home/adam/Workspace/Python/OverProt/data_tmp/chain_summary')\n",
    "bulk_json = Path('/home/adam/Workspace/Python/OverProt/data/ligands/all_pdb/all_pdb_chains.json')"
   ]
  },
  {
   "cell_type": "code",
   "execution_count": 2,
   "metadata": {},
   "outputs": [],
   "source": [
    "# bulk = {}\n",
    "# for subdir in datadir.glob('*'):\n",
    "#     if subdir.is_dir():\n",
    "#         for file in subdir.glob('*'):\n",
    "#             if file.is_file():\n",
    "#                 pdb = file.stem\n",
    "#                 with open(file) as r:\n",
    "#                     bulk[pdb] = json.load(r)\n",
    "# with open(bulk_json, 'w') as w:\n",
    "#     json.dump(bulk, w)\n",
    "with open(bulk_json) as r:\n",
    "    bulk = json.load(r)"
   ]
  },
  {
   "cell_type": "code",
   "execution_count": 3,
   "metadata": {},
   "outputs": [],
   "source": [
    "chains = []\n",
    "for pdb, cs in bulk.items():\n",
    "    for c in cs.values():\n",
    "        c['pdb'] = pdb\n",
    "        chains.append(c)"
   ]
  },
  {
   "cell_type": "code",
   "execution_count": 4,
   "metadata": {},
   "outputs": [
    {
     "name": "stdout",
     "output_type": "stream",
     "text": [
      "PDBs: 186670\n",
      "Chains: 2783182\n",
      "entity_type: 4 {'polymer': 683663, 'non-polymer': 1656805, 'water': 404210, 'branched': 38504}\n",
      "entity_polymer_type: 8 {'polypeptide(L)': 642895, None: 2099519, 'polydeoxyribonucleotide': 23750, 'polyribonucleotide': 16339, 'polydeoxyribonucleotide/polyribonucleotide hybrid': 372, 'polypeptide(D)': 283, 'other': 18, 'peptide nucleic acid': 6}\n"
     ]
    }
   ],
   "source": [
    "print('PDBs:', len(bulk))\n",
    "print('Chains:', len(chains))\n",
    "for field in ['entity_type', 'entity_polymer_type']:\n",
    "    value_counts = Counter(chain[field] for chain in chains)\n",
    "    print(field+':', len(value_counts), dict(value_counts))"
   ]
  },
  {
   "cell_type": "code",
   "execution_count": 5,
   "metadata": {},
   "outputs": [
    {
     "data": {
      "text/plain": [
       "0"
      ]
     },
     "execution_count": 5,
     "metadata": {},
     "output_type": "execute_result"
    }
   ],
   "source": [
    "len([c for c in chains if c['entity_type'] == 'branched' and c['entity_polymer_type'] != None])"
   ]
  },
  {
   "cell_type": "code",
   "execution_count": 6,
   "metadata": {},
   "outputs": [],
   "source": [
    "branched_chains = [chain for chain in chains if chain['entity_type'] == 'branched']\n",
    "branched_chains.sort(key = lambda c: c['n_atoms'], reverse=True)\n",
    "# branched_chains[:2]"
   ]
  },
  {
   "cell_type": "code",
   "execution_count": 7,
   "metadata": {},
   "outputs": [
    {
     "name": "stdout",
     "output_type": "stream",
     "text": [
      "18\n"
     ]
    },
    {
     "data": {
      "text/plain": [
       "[{'chain': 'A',\n",
       "  'auth_chain': 'A',\n",
       "  'n_atoms': 221,\n",
       "  'center': [3.825, 5.891, 30.742],\n",
       "  'entity': '1',\n",
       "  'entity_type': 'polymer',\n",
       "  'entity_polymer_type': 'other',\n",
       "  'entity_comp': None,\n",
       "  'entity_description': '(A6C)(A6C)(A6G)(A6U)(A6A)(A6A)(A6U)(A6G)(A6C)(A6C)(PO4)',\n",
       "  'pdb': '3ok2'},\n",
       " {'chain': 'B',\n",
       "  'auth_chain': 'C',\n",
       "  'n_atoms': 221,\n",
       "  'center': [-1.349, 1.312, 3.567],\n",
       "  'entity': '1',\n",
       "  'entity_type': 'polymer',\n",
       "  'entity_polymer_type': 'other',\n",
       "  'entity_comp': None,\n",
       "  'entity_description': '(A6C)(A6C)(A6G)(A6U)(A6A)(A6A)(A6U)(A6G)(A6C)(A6C)(PO4)',\n",
       "  'pdb': '3ok2'},\n",
       " {'chain': 'C',\n",
       "  'auth_chain': 'E',\n",
       "  'n_atoms': 221,\n",
       "  'center': [1.81, -4.518, -23.067],\n",
       "  'entity': '1',\n",
       "  'entity_type': 'polymer',\n",
       "  'entity_polymer_type': 'other',\n",
       "  'entity_comp': None,\n",
       "  'entity_description': '(A6C)(A6C)(A6G)(A6U)(A6A)(A6A)(A6U)(A6G)(A6C)(A6C)(PO4)',\n",
       "  'pdb': '3ok2'},\n",
       " {'chain': 'A',\n",
       "  'auth_chain': 'A',\n",
       "  'n_atoms': 221,\n",
       "  'center': [7.239, 0.828, -15.133],\n",
       "  'entity': '1',\n",
       "  'entity_type': 'polymer',\n",
       "  'entity_polymer_type': 'other',\n",
       "  'entity_comp': None,\n",
       "  'entity_description': 'ANA',\n",
       "  'pdb': '3ok4'},\n",
       " {'chain': 'B',\n",
       "  'auth_chain': 'C',\n",
       "  'n_atoms': 221,\n",
       "  'center': [7.209, -0.976, -43.637],\n",
       "  'entity': '1',\n",
       "  'entity_type': 'polymer',\n",
       "  'entity_polymer_type': 'other',\n",
       "  'entity_comp': None,\n",
       "  'entity_description': 'ANA',\n",
       "  'pdb': '3ok4'},\n",
       " {'chain': 'C',\n",
       "  'auth_chain': 'E',\n",
       "  'n_atoms': 221,\n",
       "  'center': [8.701, -1.502, -72.395],\n",
       "  'entity': '1',\n",
       "  'entity_type': 'polymer',\n",
       "  'entity_polymer_type': 'other',\n",
       "  'entity_comp': None,\n",
       "  'entity_description': 'ANA',\n",
       "  'pdb': '3ok4'},\n",
       " {'chain': 'G',\n",
       "  'auth_chain': 'G',\n",
       "  'n_atoms': 221,\n",
       "  'center': [7.213, 0.575, 19.08],\n",
       "  'entity': '1',\n",
       "  'entity_type': 'polymer',\n",
       "  'entity_polymer_type': 'other',\n",
       "  'entity_comp': None,\n",
       "  'entity_description': 'ANA',\n",
       "  'pdb': '3ok4'},\n",
       " {'chain': 'H',\n",
       "  'auth_chain': 'I',\n",
       "  'n_atoms': 221,\n",
       "  'center': [7.565, -0.978, -9.542],\n",
       "  'entity': '1',\n",
       "  'entity_type': 'polymer',\n",
       "  'entity_polymer_type': 'other',\n",
       "  'entity_comp': None,\n",
       "  'entity_description': 'ANA',\n",
       "  'pdb': '3ok4'},\n",
       " {'chain': 'I',\n",
       "  'auth_chain': 'K',\n",
       "  'n_atoms': 221,\n",
       "  'center': [8.884, -1.637, -37.947],\n",
       "  'entity': '1',\n",
       "  'entity_type': 'polymer',\n",
       "  'entity_polymer_type': 'other',\n",
       "  'entity_comp': None,\n",
       "  'entity_description': 'ANA',\n",
       "  'pdb': '3ok4'},\n",
       " {'chain': 'M',\n",
       "  'auth_chain': 'M',\n",
       "  'n_atoms': 221,\n",
       "  'center': [6.935, 0.584, 53.432],\n",
       "  'entity': '1',\n",
       "  'entity_type': 'polymer',\n",
       "  'entity_polymer_type': 'other',\n",
       "  'entity_comp': None,\n",
       "  'entity_description': 'ANA',\n",
       "  'pdb': '3ok4'},\n",
       " {'chain': 'N',\n",
       "  'auth_chain': 'O',\n",
       "  'n_atoms': 221,\n",
       "  'center': [7.357, -1.04, 24.754],\n",
       "  'entity': '1',\n",
       "  'entity_type': 'polymer',\n",
       "  'entity_polymer_type': 'other',\n",
       "  'entity_comp': None,\n",
       "  'entity_description': 'ANA',\n",
       "  'pdb': '3ok4'},\n",
       " {'chain': 'O',\n",
       "  'auth_chain': 'Q',\n",
       "  'n_atoms': 221,\n",
       "  'center': [9.402, -1.645, -3.8],\n",
       "  'entity': '1',\n",
       "  'entity_type': 'polymer',\n",
       "  'entity_polymer_type': 'other',\n",
       "  'entity_comp': None,\n",
       "  'entity_description': 'ANA',\n",
       "  'pdb': '3ok4'},\n",
       " {'chain': 'S',\n",
       "  'auth_chain': 'S',\n",
       "  'n_atoms': 221,\n",
       "  'center': [6.28, 0.788, 87.468],\n",
       "  'entity': '1',\n",
       "  'entity_type': 'polymer',\n",
       "  'entity_polymer_type': 'other',\n",
       "  'entity_comp': None,\n",
       "  'entity_description': 'ANA',\n",
       "  'pdb': '3ok4'},\n",
       " {'chain': 'T',\n",
       "  'auth_chain': 'U',\n",
       "  'n_atoms': 221,\n",
       "  'center': [7.141, -1.106, 59.084],\n",
       "  'entity': '1',\n",
       "  'entity_type': 'polymer',\n",
       "  'entity_polymer_type': 'other',\n",
       "  'entity_comp': None,\n",
       "  'entity_description': 'ANA',\n",
       "  'pdb': '3ok4'},\n",
       " {'chain': 'U',\n",
       "  'auth_chain': 'W',\n",
       "  'n_atoms': 221,\n",
       "  'center': [8.891, -1.714, 30.312],\n",
       "  'entity': '1',\n",
       "  'entity_type': 'polymer',\n",
       "  'entity_polymer_type': 'other',\n",
       "  'entity_comp': None,\n",
       "  'entity_description': 'ANA',\n",
       "  'pdb': '3ok4'},\n",
       " {'chain': 'Y',\n",
       "  'auth_chain': 'Y',\n",
       "  'n_atoms': 221,\n",
       "  'center': [7.029, 0.662, 121.587],\n",
       "  'entity': '1',\n",
       "  'entity_type': 'polymer',\n",
       "  'entity_polymer_type': 'other',\n",
       "  'entity_comp': None,\n",
       "  'entity_description': 'ANA',\n",
       "  'pdb': '3ok4'},\n",
       " {'chain': 'Z',\n",
       "  'auth_chain': '1',\n",
       "  'n_atoms': 221,\n",
       "  'center': [6.918, -0.925, 93.1],\n",
       "  'entity': '1',\n",
       "  'entity_type': 'polymer',\n",
       "  'entity_polymer_type': 'other',\n",
       "  'entity_comp': None,\n",
       "  'entity_description': 'ANA',\n",
       "  'pdb': '3ok4'},\n",
       " {'chain': 'AA',\n",
       "  'auth_chain': '3',\n",
       "  'n_atoms': 221,\n",
       "  'center': [8.644, -1.77, 64.753],\n",
       "  'entity': '1',\n",
       "  'entity_type': 'polymer',\n",
       "  'entity_polymer_type': 'other',\n",
       "  'entity_comp': None,\n",
       "  'entity_description': 'ANA',\n",
       "  'pdb': '3ok4'}]"
      ]
     },
     "execution_count": 7,
     "metadata": {},
     "output_type": "execute_result"
    }
   ],
   "source": [
    "selected_chains = [chain for chain in chains if chain['entity_polymer_type'] == 'other']\n",
    "selected_chains.sort(key = lambda c: c['n_atoms'], reverse=True)\n",
    "print(len(selected_chains))\n",
    "selected_chains\n"
   ]
  },
  {
   "cell_type": "code",
   "execution_count": null,
   "metadata": {},
   "outputs": [],
   "source": []
  }
 ],
 "metadata": {
  "interpreter": {
   "hash": "e7370f93d1d0cde622a1f8e1c04877d8463912d04d973331ad4851f04de6915a"
  },
  "kernelspec": {
   "display_name": "Python 3.8.10 64-bit",
   "language": "python",
   "name": "python3"
  },
  "language_info": {
   "codemirror_mode": {
    "name": "ipython",
    "version": 3
   },
   "file_extension": ".py",
   "mimetype": "text/x-python",
   "name": "python",
   "nbconvert_exporter": "python",
   "pygments_lexer": "ipython3",
   "version": "3.8.10"
  },
  "orig_nbformat": 4
 },
 "nbformat": 4,
 "nbformat_minor": 2
}
